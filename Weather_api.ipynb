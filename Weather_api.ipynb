{
  "nbformat": 4,
  "nbformat_minor": 0,
  "metadata": {
    "colab": {
      "provenance": [],
      "include_colab_link": true
    },
    "kernelspec": {
      "name": "python3",
      "display_name": "Python 3"
    },
    "language_info": {
      "name": "python"
    }
  },
  "cells": [
    {
      "cell_type": "markdown",
      "metadata": {
        "id": "view-in-github",
        "colab_type": "text"
      },
      "source": [
        "<a href=\"https://colab.research.google.com/github/dgizdevans/OneTrust-gtm-template/blob/master/Weather_api.ipynb\" target=\"_parent\"><img src=\"https://colab.research.google.com/assets/colab-badge.svg\" alt=\"Open In Colab\"/></a>"
      ]
    },
    {
      "cell_type": "markdown",
      "source": [],
      "metadata": {
        "id": "U3-_UVzakPCI"
      }
    },
    {
      "cell_type": "code",
      "source": [
        "import requests\n",
        "import pandas as pd"
      ],
      "metadata": {
        "id": "Te9Dvy-FkQHu"
      },
      "execution_count": null,
      "outputs": []
    },
    {
      "cell_type": "code",
      "source": [
        "# URLs for the 3 cities\n",
        "urls = {\n",
        "    'Riga': 'https://api.open-meteo.com/v1/forecast?latitude=56.94&longitude=24.10&hourly=temperature_2m',\n",
        "    'Tallinn': 'https://api.open-meteo.com/v1/forecast?latitude=59.43&longitude=24.75&hourly=temperature_2m',\n",
        "    'Vilnius': 'https://api.open-meteo.com/v1/forecast?latitude=54.68&longitude=25.27&hourly=temperature_2m'\n",
        "}"
      ],
      "metadata": {
        "id": "264nYbjIlSgo"
      },
      "execution_count": null,
      "outputs": []
    },
    {
      "cell_type": "code",
      "source": [
        "# Function to fetch data and save to CSV\n",
        "def fetch_and_save_data(city, url):\n",
        "    response = requests.get(url)\n",
        "    data = response.json()\n",
        "\n",
        "    # Extract hourly time and temperature_2m\n",
        "    hourly_data = data['hourly']\n",
        "    df = pd.DataFrame({\n",
        "        'time': hourly_data['time'],\n",
        "        'temperature_2m': hourly_data['temperature_2m']\n",
        "    })\n",
        "\n",
        "    # Save the dataframe to CSV\n",
        "    df.to_csv(f'{city}_weather_data.csv', index=False)\n",
        "    print(f\"Data for {city} saved to {city}_weather_data.csv\")\n",
        "\n",
        "# Fetch and save data for each city\n",
        "for city, url in urls.items():\n",
        "    fetch_and_save_data(city, url)"
      ],
      "metadata": {
        "id": "jDM9geS_lT6P"
      },
      "execution_count": null,
      "outputs": []
    },
    {
      "cell_type": "markdown",
      "source": [],
      "metadata": {
        "id": "6qgyRCPhj9mU"
      }
    }
  ]
}