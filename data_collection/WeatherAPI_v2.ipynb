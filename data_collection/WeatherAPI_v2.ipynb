{
  "nbformat": 4,
  "nbformat_minor": 0,
  "metadata": {
    "colab": {
      "provenance": [],
      "authorship_tag": "ABX9TyNl5U8h3TNPQCNvQkxdfKyj",
      "include_colab_link": true
    },
    "kernelspec": {
      "name": "python3",
      "display_name": "Python 3"
    },
    "language_info": {
      "name": "python"
    }
  },
  "cells": [
    {
      "cell_type": "markdown",
      "metadata": {
        "id": "view-in-github",
        "colab_type": "text"
      },
      "source": [
        "<a href=\"https://colab.research.google.com/github/dgizdevans/OneTrust-gtm-template/blob/master/data_collection/WeatherAPI_v2.ipynb\" target=\"_parent\"><img src=\"https://colab.research.google.com/assets/colab-badge.svg\" alt=\"Open In Colab\"/></a>"
      ]
    },
    {
      "cell_type": "code",
      "execution_count": 1,
      "metadata": {
        "colab": {
          "base_uri": "https://localhost:8080/"
        },
        "id": "rSJajwrdy2_K",
        "outputId": "39770cd2-006c-4eee-ddec-e5d2704dc7cd"
      },
      "outputs": [
        {
          "output_type": "stream",
          "name": "stdout",
          "text": [
            "Data for Riga saved to Riga_weather_data.csv\n",
            "Data for Riga saved to SQLite database.\n",
            "Data for Tallinn saved to Tallinn_weather_data.csv\n",
            "Data for Tallinn saved to SQLite database.\n",
            "Data for Vilnius saved to Vilnius_weather_data.csv\n",
            "Data for Vilnius saved to SQLite database.\n"
          ]
        }
      ],
      "source": [
        "import requests\n",
        "import pandas as pd\n",
        "import sqlite3\n",
        "\n",
        "# URLs for the 3 cities\n",
        "urls = {\n",
        "    'Riga': 'https://api.open-meteo.com/v1/forecast?latitude=56.94&longitude=24.10&hourly=temperature_2m,relative_humidity_2m',\n",
        "    'Tallinn': 'https://api.open-meteo.com/v1/forecast?latitude=59.43&longitude=24.75&hourly=temperature_2m,relative_humidity_2m',\n",
        "    'Vilnius': 'https://api.open-meteo.com/v1/forecast?latitude=54.68&longitude=25.27&hourly=temperature_2m,relative_humidity_2m'\n",
        "}\n",
        "\n",
        "# Function to fetch data and save to CSV and SQLite\n",
        "def fetch_and_save_data(city, url, conn):\n",
        "    response = requests.get(url)\n",
        "    data = response.json()\n",
        "\n",
        "    # Extract hourly time and temperature_2m and relative_humidity_2m\n",
        "    hourly_data = data['hourly']\n",
        "    df = pd.DataFrame({\n",
        "        'time': hourly_data['time'],\n",
        "        'temperature': hourly_data['temperature_2m'],\n",
        "        'humidity': hourly_data['relative_humidity_2m']\n",
        "    })\n",
        "\n",
        "    # Save the dataframe to CSV\n",
        "    df.to_csv(f'{city}_weather_data.csv', index=False)\n",
        "    print(f\"Data for {city} saved to {city}_weather_data.csv\")\n",
        "\n",
        "    # Save the dataframe to SQLite\n",
        "    df.to_sql(f'{city}_weather', conn, if_exists='replace', index=False)\n",
        "    print(f\"Data for {city} saved to SQLite database.\")\n",
        "\n",
        "# Set up SQLite connection\n",
        "conn = sqlite3.connect('weather_data.db')\n",
        "\n",
        "# Fetch and save data for each city\n",
        "for city, url in urls.items():\n",
        "    fetch_and_save_data(city, url, conn)\n",
        "\n",
        "# Close SQLite connection\n",
        "conn.close()\n"
      ]
    }
  ]
}